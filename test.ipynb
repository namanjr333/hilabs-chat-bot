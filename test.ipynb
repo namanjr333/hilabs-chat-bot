{
 "cells": [
  {
   "cell_type": "code",
   "execution_count": 1,
   "metadata": {},
   "outputs": [
    {
     "name": "stdout",
     "output_type": "stream",
     "text": [
      "Requirement already satisfied: langchain_ollama in c:\\users\\hp\\appdata\\local\\programs\\python\\python312\\lib\\site-packages (0.1.3)\n",
      "Requirement already satisfied: langchain-core<0.3.0,>=0.2.36 in c:\\users\\hp\\appdata\\local\\programs\\python\\python312\\lib\\site-packages (from langchain_ollama) (0.2.37)\n",
      "Requirement already satisfied: ollama<1,>=0.3.0 in c:\\users\\hp\\appdata\\local\\programs\\python\\python312\\lib\\site-packages (from langchain_ollama) (0.3.2)\n",
      "Requirement already satisfied: PyYAML>=5.3 in c:\\users\\hp\\appdata\\local\\programs\\python\\python312\\lib\\site-packages (from langchain-core<0.3.0,>=0.2.36->langchain_ollama) (6.0.1)\n",
      "Requirement already satisfied: jsonpatch<2.0,>=1.33 in c:\\users\\hp\\appdata\\local\\programs\\python\\python312\\lib\\site-packages (from langchain-core<0.3.0,>=0.2.36->langchain_ollama) (1.33)\n",
      "Requirement already satisfied: langsmith<0.2.0,>=0.1.75 in c:\\users\\hp\\appdata\\local\\programs\\python\\python312\\lib\\site-packages (from langchain-core<0.3.0,>=0.2.36->langchain_ollama) (0.1.107)\n",
      "Requirement already satisfied: packaging<25,>=23.2 in c:\\users\\hp\\appdata\\local\\programs\\python\\python312\\lib\\site-packages (from langchain-core<0.3.0,>=0.2.36->langchain_ollama) (23.2)\n",
      "Requirement already satisfied: pydantic<3,>=1 in c:\\users\\hp\\appdata\\local\\programs\\python\\python312\\lib\\site-packages (from langchain-core<0.3.0,>=0.2.36->langchain_ollama) (1.10.12)\n",
      "Requirement already satisfied: tenacity!=8.4.0,<9.0.0,>=8.1.0 in c:\\users\\hp\\appdata\\local\\programs\\python\\python312\\lib\\site-packages (from langchain-core<0.3.0,>=0.2.36->langchain_ollama) (8.2.3)\n",
      "Requirement already satisfied: typing-extensions>=4.7 in c:\\users\\hp\\appdata\\local\\programs\\python\\python312\\lib\\site-packages (from langchain-core<0.3.0,>=0.2.36->langchain_ollama) (4.12.2)\n",
      "Requirement already satisfied: httpx<0.28.0,>=0.27.0 in c:\\users\\hp\\appdata\\local\\programs\\python\\python312\\lib\\site-packages (from ollama<1,>=0.3.0->langchain_ollama) (0.27.0)\n",
      "Requirement already satisfied: anyio in c:\\users\\hp\\appdata\\local\\programs\\python\\python312\\lib\\site-packages (from httpx<0.28.0,>=0.27.0->ollama<1,>=0.3.0->langchain_ollama) (4.4.0)\n",
      "Requirement already satisfied: certifi in c:\\users\\hp\\appdata\\local\\programs\\python\\python312\\lib\\site-packages (from httpx<0.28.0,>=0.27.0->ollama<1,>=0.3.0->langchain_ollama) (2023.7.22)\n",
      "Requirement already satisfied: httpcore==1.* in c:\\users\\hp\\appdata\\local\\programs\\python\\python312\\lib\\site-packages (from httpx<0.28.0,>=0.27.0->ollama<1,>=0.3.0->langchain_ollama) (1.0.5)\n",
      "Requirement already satisfied: idna in c:\\users\\hp\\appdata\\local\\programs\\python\\python312\\lib\\site-packages (from httpx<0.28.0,>=0.27.0->ollama<1,>=0.3.0->langchain_ollama) (3.4)\n",
      "Requirement already satisfied: sniffio in c:\\users\\hp\\appdata\\local\\programs\\python\\python312\\lib\\site-packages (from httpx<0.28.0,>=0.27.0->ollama<1,>=0.3.0->langchain_ollama) (1.3.1)\n",
      "Requirement already satisfied: h11<0.15,>=0.13 in c:\\users\\hp\\appdata\\local\\programs\\python\\python312\\lib\\site-packages (from httpcore==1.*->httpx<0.28.0,>=0.27.0->ollama<1,>=0.3.0->langchain_ollama) (0.14.0)\n",
      "Requirement already satisfied: jsonpointer>=1.9 in c:\\users\\hp\\appdata\\local\\programs\\python\\python312\\lib\\site-packages (from jsonpatch<2.0,>=1.33->langchain-core<0.3.0,>=0.2.36->langchain_ollama) (3.0.0)\n",
      "Requirement already satisfied: orjson<4.0.0,>=3.9.14 in c:\\users\\hp\\appdata\\local\\programs\\python\\python312\\lib\\site-packages (from langsmith<0.2.0,>=0.1.75->langchain-core<0.3.0,>=0.2.36->langchain_ollama) (3.10.7)\n",
      "Requirement already satisfied: requests<3,>=2 in c:\\users\\hp\\appdata\\local\\programs\\python\\python312\\lib\\site-packages (from langsmith<0.2.0,>=0.1.75->langchain-core<0.3.0,>=0.2.36->langchain_ollama) (2.31.0)\n",
      "Requirement already satisfied: charset-normalizer<4,>=2 in c:\\users\\hp\\appdata\\local\\programs\\python\\python312\\lib\\site-packages (from requests<3,>=2->langsmith<0.2.0,>=0.1.75->langchain-core<0.3.0,>=0.2.36->langchain_ollama) (3.3.1)\n",
      "Requirement already satisfied: urllib3<3,>=1.21.1 in c:\\users\\hp\\appdata\\local\\programs\\python\\python312\\lib\\site-packages (from requests<3,>=2->langsmith<0.2.0,>=0.1.75->langchain-core<0.3.0,>=0.2.36->langchain_ollama) (2.0.7)\n"
     ]
    },
    {
     "name": "stderr",
     "output_type": "stream",
     "text": [
      "\n",
      "[notice] A new release of pip is available: 23.3.1 -> 24.2\n",
      "[notice] To update, run: python.exe -m pip install --upgrade pip\n"
     ]
    }
   ],
   "source": [
    "!pip install langchain_ollama"
   ]
  },
  {
   "cell_type": "code",
   "execution_count": 1,
   "metadata": {},
   "outputs": [
    {
     "name": "stdout",
     "output_type": "stream",
     "text": [
      "Hello! It's nice to meet you. Is there something I can help you with or would you like to chat?\n"
     ]
    }
   ],
   "source": [
    "from langchain_ollama.llms import OllamaLLM\n",
    "\n",
    "# Initialize the Ollama model\n",
    "llm = OllamaLLM(model =\"llama3.1\") \n",
    "    \n",
    "\n",
    "# Call the model with a prompt\n",
    "response = llm.invoke(\"Hello, world!\")\n",
    "\n",
    "# Print the response\n",
    "print(response)\n"
   ]
  },
  {
   "cell_type": "code",
   "execution_count": 46,
   "metadata": {},
   "outputs": [],
   "source": [
    "LANGCHAIN_TRACING_V2 = True\n",
    "LANGCHAIN_ENDPOINT = \"https://api.smith.langchain.com\"\n",
    "LANGCHAIN_API_KEY = \"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\"\n",
    "LANGCHAIN_PROJECT = \"pr-majestic-loan-46\"\n"
   ]
  },
  {
   "cell_type": "code",
   "execution_count": 48,
   "metadata": {},
   "outputs": [],
   "source": [
    "import os\n",
    "os.environ['LANGCHAIN_TRACING_V2'] = 'True'\n",
    "os.environ['LANGCHAIN_API_KEY'] = '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' "
   ]
  },
  {
   "cell_type": "code",
   "execution_count": 2,
   "metadata": {},
   "outputs": [],
   "source": [
    "from langchain.document_loaders import PDFPlumberLoader\n",
    "loader = PDFPlumberLoader(\"h.pdf\")\n",
    "\n",
    "# Load the document\n",
    "docs = loader.load()\n"
   ]
  },
  {
   "cell_type": "code",
   "execution_count": null,
   "metadata": {},
   "outputs": [
    {
     "data": {
      "text/plain": [
       "[Document(metadata={'source': 'h.pdf', 'file_path': 'h.pdf', 'page': 0, 'total_pages': 3, 'Author': 'Priyanka Jha', 'CreationDate': \"D:20240830201514+05'30'\", 'ModDate': \"D:20240830201514+05'30'\", 'Producer': 'Microsoft: Print To PDF', 'Title': 'Microsoft Word - Smart Querying for PDFs'}, page_content='Introduction'),\n",
       " Document(metadata={'source': 'h.pdf', 'file_path': 'h.pdf', 'page': 0, 'total_pages': 3, 'Author': 'Priyanka Jha', 'CreationDate': \"D:20240830201514+05'30'\", 'ModDate': \"D:20240830201514+05'30'\", 'Producer': 'Microsoft: Print To PDF', 'Title': 'Microsoft Word - Smart Querying for PDFs'}, page_content='HiLabs is a healthcare technology company that leverages artificial intelligence (AI) to enhance'),\n",
       " Document(metadata={'source': 'h.pdf', 'file_path': 'h.pdf', 'page': 0, 'total_pages': 3, 'Author': 'Priyanka Jha', 'CreationDate': \"D:20240830201514+05'30'\", 'ModDate': \"D:20240830201514+05'30'\", 'Producer': 'Microsoft: Print To PDF', 'Title': 'Microsoft Word - Smart Querying for PDFs'}, page_content='enhance data'),\n",
       " Document(metadata={'source': 'h.pdf', 'file_path': 'h.pdf', 'page': 0, 'total_pages': 3, 'Author': 'Priyanka Jha', 'CreationDate': \"D:20240830201514+05'30'\", 'ModDate': \"D:20240830201514+05'30'\", 'Producer': 'Microsoft: Print To PDF', 'Title': 'Microsoft Word - Smart Querying for PDFs'}, page_content='accuracy and reliability in the healthcare sector. Founded in 2014, HiLabs focuses on solving the'),\n",
       " Document(metadata={'source': 'h.pdf', 'file_path': 'h.pdf', 'page': 0, 'total_pages': 3, 'Author': 'Priyanka Jha', 'CreationDate': \"D:20240830201514+05'30'\", 'ModDate': \"D:20240830201514+05'30'\", 'Producer': 'Microsoft: Print To PDF', 'Title': 'Microsoft Word - Smart Querying for PDFs'}, page_content='challenges of \"dirty data\" in clinical and healthcare systems, ensuring that data used for patient'),\n",
       " Document(metadata={'source': 'h.pdf', 'file_path': 'h.pdf', 'page': 0, 'total_pages': 3, 'Author': 'Priyanka Jha', 'CreationDate': \"D:20240830201514+05'30'\", 'ModDate': \"D:20240830201514+05'30'\", 'Producer': 'Microsoft: Print To PDF', 'Title': 'Microsoft Word - Smart Querying for PDFs'}, page_content='patient care,'),\n",
       " Document(metadata={'source': 'h.pdf', 'file_path': 'h.pdf', 'page': 0, 'total_pages': 3, 'Author': 'Priyanka Jha', 'CreationDate': \"D:20240830201514+05'30'\", 'ModDate': \"D:20240830201514+05'30'\", 'Producer': 'Microsoft: Print To PDF', 'Title': 'Microsoft Word - Smart Querying for PDFs'}, page_content='clinical research, and operations is clean and standardized. Our AI-driven solutions are widely'),\n",
       " Document(metadata={'source': 'h.pdf', 'file_path': 'h.pdf', 'page': 0, 'total_pages': 3, 'Author': 'Priyanka Jha', 'CreationDate': \"D:20240830201514+05'30'\", 'ModDate': \"D:20240830201514+05'30'\", 'Producer': 'Microsoft: Print To PDF', 'Title': 'Microsoft Word - Smart Querying for PDFs'}, page_content='widely adopted,'),\n",
       " Document(metadata={'source': 'h.pdf', 'file_path': 'h.pdf', 'page': 0, 'total_pages': 3, 'Author': 'Priyanka Jha', 'CreationDate': \"D:20240830201514+05'30'\", 'ModDate': \"D:20240830201514+05'30'\", 'Producer': 'Microsoft: Print To PDF', 'Title': 'Microsoft Word - Smart Querying for PDFs'}, page_content='analysing data from over 80% of U.S. healthcare providers. HiLabs’ work is crucial in improving'),\n",
       " Document(metadata={'source': 'h.pdf', 'file_path': 'h.pdf', 'page': 0, 'total_pages': 3, 'Author': 'Priyanka Jha', 'CreationDate': \"D:20240830201514+05'30'\", 'ModDate': \"D:20240830201514+05'30'\", 'Producer': 'Microsoft: Print To PDF', 'Title': 'Microsoft Word - Smart Querying for PDFs'}, page_content='improving patient'),\n",
       " Document(metadata={'source': 'h.pdf', 'file_path': 'h.pdf', 'page': 0, 'total_pages': 3, 'Author': 'Priyanka Jha', 'CreationDate': \"D:20240830201514+05'30'\", 'ModDate': \"D:20240830201514+05'30'\", 'Producer': 'Microsoft: Print To PDF', 'Title': 'Microsoft Word - Smart Querying for PDFs'}, page_content='outcomes, and supporting clinical research, making it a key player in health tech innovation.'),\n",
       " Document(metadata={'source': 'h.pdf', 'file_path': 'h.pdf', 'page': 0, 'total_pages': 3, 'Author': 'Priyanka Jha', 'CreationDate': \"D:20240830201514+05'30'\", 'ModDate': \"D:20240830201514+05'30'\", 'Producer': 'Microsoft: Print To PDF', 'Title': 'Microsoft Word - Smart Querying for PDFs'}, page_content='Problem Statement\\nTitle: Smart Querying for PDFs\\nOverview'),\n",
       " Document(metadata={'source': 'h.pdf', 'file_path': 'h.pdf', 'page': 0, 'total_pages': 3, 'Author': 'Priyanka Jha', 'CreationDate': \"D:20240830201514+05'30'\", 'ModDate': \"D:20240830201514+05'30'\", 'Producer': 'Microsoft: Print To PDF', 'Title': 'Microsoft Word - Smart Querying for PDFs'}, page_content='\"In the rapidly advancing field of document processing, the ability to e(cid:431)iciently query and'),\n",
       " Document(metadata={'source': 'h.pdf', 'file_path': 'h.pdf', 'page': 0, 'total_pages': 3, 'Author': 'Priyanka Jha', 'CreationDate': \"D:20240830201514+05'30'\", 'ModDate': \"D:20240830201514+05'30'\", 'Producer': 'Microsoft: Print To PDF', 'Title': 'Microsoft Word - Smart Querying for PDFs'}, page_content='query and interpret data'),\n",
       " Document(metadata={'source': 'h.pdf', 'file_path': 'h.pdf', 'page': 0, 'total_pages': 3, 'Author': 'Priyanka Jha', 'CreationDate': \"D:20240830201514+05'30'\", 'ModDate': \"D:20240830201514+05'30'\", 'Producer': 'Microsoft: Print To PDF', 'Title': 'Microsoft Word - Smart Querying for PDFs'}, page_content='from complex PDF files is essential for enhancing information accessibility and decision-making.'),\n",
       " Document(metadata={'source': 'h.pdf', 'file_path': 'h.pdf', 'page': 0, 'total_pages': 3, 'Author': 'Priyanka Jha', 'CreationDate': \"D:20240830201514+05'30'\", 'ModDate': \"D:20240830201514+05'30'\", 'Producer': 'Microsoft: Print To PDF', 'Title': 'Microsoft Word - Smart Querying for PDFs'}, page_content='This'),\n",
       " Document(metadata={'source': 'h.pdf', 'file_path': 'h.pdf', 'page': 0, 'total_pages': 3, 'Author': 'Priyanka Jha', 'CreationDate': \"D:20240830201514+05'30'\", 'ModDate': \"D:20240830201514+05'30'\", 'Producer': 'Microsoft: Print To PDF', 'Title': 'Microsoft Word - Smart Querying for PDFs'}, page_content='hackathon challenges participants to develop a robust chatbot system capable of accurately'),\n",
       " Document(metadata={'source': 'h.pdf', 'file_path': 'h.pdf', 'page': 0, 'total_pages': 3, 'Author': 'Priyanka Jha', 'CreationDate': \"D:20240830201514+05'30'\", 'ModDate': \"D:20240830201514+05'30'\", 'Producer': 'Microsoft: Print To PDF', 'Title': 'Microsoft Word - Smart Querying for PDFs'}, page_content='extracting'),\n",
       " Document(metadata={'source': 'h.pdf', 'file_path': 'h.pdf', 'page': 0, 'total_pages': 3, 'Author': 'Priyanka Jha', 'CreationDate': \"D:20240830201514+05'30'\", 'ModDate': \"D:20240830201514+05'30'\", 'Producer': 'Microsoft: Print To PDF', 'Title': 'Microsoft Word - Smart Querying for PDFs'}, page_content='and responding to questions about data embedded in PDF documents.”\\nProblem Statement'),\n",
       " Document(metadata={'source': 'h.pdf', 'file_path': 'h.pdf', 'page': 0, 'total_pages': 3, 'Author': 'Priyanka Jha', 'CreationDate': \"D:20240830201514+05'30'\", 'ModDate': \"D:20240830201514+05'30'\", 'Producer': 'Microsoft: Print To PDF', 'Title': 'Microsoft Word - Smart Querying for PDFs'}, page_content='Your task is to create a chatbot that takes in a PDF document and can answer questions about the'),\n",
       " Document(metadata={'source': 'h.pdf', 'file_path': 'h.pdf', 'page': 0, 'total_pages': 3, 'Author': 'Priyanka Jha', 'CreationDate': \"D:20240830201514+05'30'\", 'ModDate': \"D:20240830201514+05'30'\", 'Producer': 'Microsoft: Print To PDF', 'Title': 'Microsoft Word - Smart Querying for PDFs'}, page_content='information present in the document, including questions about data present in tables and exhibits'),\n",
       " Document(metadata={'source': 'h.pdf', 'file_path': 'h.pdf', 'page': 0, 'total_pages': 3, 'Author': 'Priyanka Jha', 'CreationDate': \"D:20240830201514+05'30'\", 'ModDate': \"D:20240830201514+05'30'\", 'Producer': 'Microsoft: Print To PDF', 'Title': 'Microsoft Word - Smart Querying for PDFs'}, page_content='Tasks:\\nSample Input Questions (Please refer to the provided set of PDF documents)'),\n",
       " Document(metadata={'source': 'h.pdf', 'file_path': 'h.pdf', 'page': 0, 'total_pages': 3, 'Author': 'Priyanka Jha', 'CreationDate': \"D:20240830201514+05'30'\", 'ModDate': \"D:20240830201514+05'30'\", 'Producer': 'Microsoft: Print To PDF', 'Title': 'Microsoft Word - Smart Querying for PDFs'}, page_content='\\uf0b7 What all procedure codes are present in this document?'),\n",
       " Document(metadata={'source': 'h.pdf', 'file_path': 'h.pdf', 'page': 0, 'total_pages': 3, 'Author': 'Priyanka Jha', 'CreationDate': \"D:20240830201514+05'30'\", 'ModDate': \"D:20240830201514+05'30'\", 'Producer': 'Microsoft: Print To PDF', 'Title': 'Microsoft Word - Smart Querying for PDFs'}, page_content='\\uf0b7 What is the rate of reimbursement for inpatient services in this contract PDF?'),\n",
       " Document(metadata={'source': 'h.pdf', 'file_path': 'h.pdf', 'page': 0, 'total_pages': 3, 'Author': 'Priyanka Jha', 'CreationDate': \"D:20240830201514+05'30'\", 'ModDate': \"D:20240830201514+05'30'\", 'Producer': 'Microsoft: Print To PDF', 'Title': 'Microsoft Word - Smart Querying for PDFs'}, page_content='\\uf0b7 At what rates is the billing code S9123 reimbursed in this contract?'),\n",
       " Document(metadata={'source': 'h.pdf', 'file_path': 'h.pdf', 'page': 0, 'total_pages': 3, 'Author': 'Priyanka Jha', 'CreationDate': \"D:20240830201514+05'30'\", 'ModDate': \"D:20240830201514+05'30'\", 'Producer': 'Microsoft: Print To PDF', 'Title': 'Microsoft Word - Smart Querying for PDFs'}, page_content='\\uf0b7 What are the Tax Identification Numbers (TIN’s) mentioned in this contract?\\nSample Outputs'),\n",
       " Document(metadata={'source': 'h.pdf', 'file_path': 'h.pdf', 'page': 0, 'total_pages': 3, 'Author': 'Priyanka Jha', 'CreationDate': \"D:20240830201514+05'30'\", 'ModDate': \"D:20240830201514+05'30'\", 'Producer': 'Microsoft: Print To PDF', 'Title': 'Microsoft Word - Smart Querying for PDFs'}, page_content='1. For the question “What all procedure codes are present in this document?”'),\n",
       " Document(metadata={'source': 'h.pdf', 'file_path': 'h.pdf', 'page': 0, 'total_pages': 3, 'Author': 'Priyanka Jha', 'CreationDate': \"D:20240830201514+05'30'\", 'ModDate': \"D:20240830201514+05'30'\", 'Producer': 'Microsoft: Print To PDF', 'Title': 'Microsoft Word - Smart Querying for PDFs'}, page_content='\\uf0a7 List of all the procedure codes present in the document'),\n",
       " Document(metadata={'source': 'h.pdf', 'file_path': 'h.pdf', 'page': 1, 'total_pages': 3, 'Author': 'Priyanka Jha', 'CreationDate': \"D:20240830201514+05'30'\", 'ModDate': \"D:20240830201514+05'30'\", 'Producer': 'Microsoft: Print To PDF', 'Title': 'Microsoft Word - Smart Querying for PDFs'}, page_content='2. For the question \" What is the rate of reimbursement for inpatient services in this'),\n",
       " Document(metadata={'source': 'h.pdf', 'file_path': 'h.pdf', 'page': 1, 'total_pages': 3, 'Author': 'Priyanka Jha', 'CreationDate': \"D:20240830201514+05'30'\", 'ModDate': \"D:20240830201514+05'30'\", 'Producer': 'Microsoft: Print To PDF', 'Title': 'Microsoft Word - Smart Querying for PDFs'}, page_content='contract?”, the answer should comprise of the following –'),\n",
       " Document(metadata={'source': 'h.pdf', 'file_path': 'h.pdf', 'page': 1, 'total_pages': 3, 'Author': 'Priyanka Jha', 'CreationDate': \"D:20240830201514+05'30'\", 'ModDate': \"D:20240830201514+05'30'\", 'Producer': 'Microsoft: Print To PDF', 'Title': 'Microsoft Word - Smart Querying for PDFs'}, page_content='\\uf0a7 For pre-authorized Inpatient Services, Plan shall pay Hospital at one hundred'),\n",
       " Document(metadata={'source': 'h.pdf', 'file_path': 'h.pdf', 'page': 1, 'total_pages': 3, 'Author': 'Priyanka Jha', 'CreationDate': \"D:20240830201514+05'30'\", 'ModDate': \"D:20240830201514+05'30'\", 'Producer': 'Microsoft: Print To PDF', 'Title': 'Microsoft Word - Smart Querying for PDFs'}, page_content=\"percent (100%) of current Medicare DRG's.\"),\n",
       " Document(metadata={'source': 'h.pdf', 'file_path': 'h.pdf', 'page': 1, 'total_pages': 3, 'Author': 'Priyanka Jha', 'CreationDate': \"D:20240830201514+05'30'\", 'ModDate': \"D:20240830201514+05'30'\", 'Producer': 'Microsoft: Print To PDF', 'Title': 'Microsoft Word - Smart Querying for PDFs'}, page_content='3. For the question “At what rates is the billing code S9123 reimbursed in this contract?”,'),\n",
       " Document(metadata={'source': 'h.pdf', 'file_path': 'h.pdf', 'page': 1, 'total_pages': 3, 'Author': 'Priyanka Jha', 'CreationDate': \"D:20240830201514+05'30'\", 'ModDate': \"D:20240830201514+05'30'\", 'Producer': 'Microsoft: Print To PDF', 'Title': 'Microsoft Word - Smart Querying for PDFs'}, page_content='the answer should comprise of the following –\\n\\uf0a7 “Billing code S9123 is reimbursed at $120 per hour”'),\n",
       " Document(metadata={'source': 'h.pdf', 'file_path': 'h.pdf', 'page': 1, 'total_pages': 3, 'Author': 'Priyanka Jha', 'CreationDate': \"D:20240830201514+05'30'\", 'ModDate': \"D:20240830201514+05'30'\", 'Producer': 'Microsoft: Print To PDF', 'Title': 'Microsoft Word - Smart Querying for PDFs'}, page_content='What we provide\\n1. Set of sample PDF documents. These represent snippets of medical contracts\\nRules'),\n",
       " Document(metadata={'source': 'h.pdf', 'file_path': 'h.pdf', 'page': 1, 'total_pages': 3, 'Author': 'Priyanka Jha', 'CreationDate': \"D:20240830201514+05'30'\", 'ModDate': \"D:20240830201514+05'30'\", 'Producer': 'Microsoft: Print To PDF', 'Title': 'Microsoft Word - Smart Querying for PDFs'}, page_content='Rules\\n\\uf0b7 Only open source LLMs are allowed. The supplied documents cannot be uploaded to any'),\n",
       " Document(metadata={'source': 'h.pdf', 'file_path': 'h.pdf', 'page': 1, 'total_pages': 3, 'Author': 'Priyanka Jha', 'CreationDate': \"D:20240830201514+05'30'\", 'ModDate': \"D:20240830201514+05'30'\", 'Producer': 'Microsoft: Print To PDF', 'Title': 'Microsoft Word - Smart Querying for PDFs'}, page_content='servers, nor can you make API calls to proprietary LLMs. You must use the LLMs locally.'),\n",
       " Document(metadata={'source': 'h.pdf', 'file_path': 'h.pdf', 'page': 1, 'total_pages': 3, 'Author': 'Priyanka Jha', 'CreationDate': \"D:20240830201514+05'30'\", 'ModDate': \"D:20240830201514+05'30'\", 'Producer': 'Microsoft: Print To PDF', 'Title': 'Microsoft Word - Smart Querying for PDFs'}, page_content='\\uf0b7 You must submit a repository of your code, along with a script to run your code and a readme'),\n",
       " Document(metadata={'source': 'h.pdf', 'file_path': 'h.pdf', 'page': 1, 'total_pages': 3, 'Author': 'Priyanka Jha', 'CreationDate': \"D:20240830201514+05'30'\", 'ModDate': \"D:20240830201514+05'30'\", 'Producer': 'Microsoft: Print To PDF', 'Title': 'Microsoft Word - Smart Querying for PDFs'}, page_content='that has clear instructions on setting up and running your code. If we are not able to run your'),\n",
       " Document(metadata={'source': 'h.pdf', 'file_path': 'h.pdf', 'page': 1, 'total_pages': 3, 'Author': 'Priyanka Jha', 'CreationDate': \"D:20240830201514+05'30'\", 'ModDate': \"D:20240830201514+05'30'\", 'Producer': 'Microsoft: Print To PDF', 'Title': 'Microsoft Word - Smart Querying for PDFs'}, page_content='code, you will be disqualified.\\nSuggestions and notes'),\n",
       " Document(metadata={'source': 'h.pdf', 'file_path': 'h.pdf', 'page': 1, 'total_pages': 3, 'Author': 'Priyanka Jha', 'CreationDate': \"D:20240830201514+05'30'\", 'ModDate': \"D:20240830201514+05'30'\", 'Producer': 'Microsoft: Print To PDF', 'Title': 'Microsoft Word - Smart Querying for PDFs'}, page_content='\\uf0b7 You are free to use any technique to build your software. We recommend using a combination'),\n",
       " Document(metadata={'source': 'h.pdf', 'file_path': 'h.pdf', 'page': 1, 'total_pages': 3, 'Author': 'Priyanka Jha', 'CreationDate': \"D:20240830201514+05'30'\", 'ModDate': \"D:20240830201514+05'30'\", 'Producer': 'Microsoft: Print To PDF', 'Title': 'Microsoft Word - Smart Querying for PDFs'}, page_content='of techniques like prompt engineering, LLM finetuning, few shot learning etc.'),\n",
       " Document(metadata={'source': 'h.pdf', 'file_path': 'h.pdf', 'page': 1, 'total_pages': 3, 'Author': 'Priyanka Jha', 'CreationDate': \"D:20240830201514+05'30'\", 'ModDate': \"D:20240830201514+05'30'\", 'Producer': 'Microsoft: Print To PDF', 'Title': 'Microsoft Word - Smart Querying for PDFs'}, page_content='\\uf0b7 Suggested baseline approach – Retrieval-augmented generation. Since you are scored on'),\n",
       " Document(metadata={'source': 'h.pdf', 'file_path': 'h.pdf', 'page': 1, 'total_pages': 3, 'Author': 'Priyanka Jha', 'CreationDate': \"D:20240830201514+05'30'\", 'ModDate': \"D:20240830201514+05'30'\", 'Producer': 'Microsoft: Print To PDF', 'Title': 'Microsoft Word - Smart Querying for PDFs'}, page_content='accuracy of your answers and the complexity of questions you are able to handle, you will have'),\n",
       " Document(metadata={'source': 'h.pdf', 'file_path': 'h.pdf', 'page': 1, 'total_pages': 3, 'Author': 'Priyanka Jha', 'CreationDate': \"D:20240830201514+05'30'\", 'ModDate': \"D:20240830201514+05'30'\", 'Producer': 'Microsoft: Print To PDF', 'Title': 'Microsoft Word - Smart Querying for PDFs'}, page_content='to figure out techniques to make the translations more accurate. Some suggestions are'),\n",
       " Document(metadata={'source': 'h.pdf', 'file_path': 'h.pdf', 'page': 1, 'total_pages': 3, 'Author': 'Priyanka Jha', 'CreationDate': \"D:20240830201514+05'30'\", 'ModDate': \"D:20240830201514+05'30'\", 'Producer': 'Microsoft: Print To PDF', 'Title': 'Microsoft Word - Smart Querying for PDFs'}, page_content='incorporating visual metadata into LLM feed, experimenting with chunking and using a chain of'),\n",
       " Document(metadata={'source': 'h.pdf', 'file_path': 'h.pdf', 'page': 1, 'total_pages': 3, 'Author': 'Priyanka Jha', 'CreationDate': \"D:20240830201514+05'30'\", 'ModDate': \"D:20240830201514+05'30'\", 'Producer': 'Microsoft: Print To PDF', 'Title': 'Microsoft Word - Smart Querying for PDFs'}, page_content='LLMs to postprocess your answers. However, you are free to use your own approaches'),\n",
       " Document(metadata={'source': 'h.pdf', 'file_path': 'h.pdf', 'page': 1, 'total_pages': 3, 'Author': 'Priyanka Jha', 'CreationDate': \"D:20240830201514+05'30'\", 'ModDate': \"D:20240830201514+05'30'\", 'Producer': 'Microsoft: Print To PDF', 'Title': 'Microsoft Word - Smart Querying for PDFs'}, page_content='\\uf0b7 Good architectural skills will be valued, and query execution time is one of the scoring factors.'),\n",
       " Document(metadata={'source': 'h.pdf', 'file_path': 'h.pdf', 'page': 2, 'total_pages': 3, 'Author': 'Priyanka Jha', 'CreationDate': \"D:20240830201514+05'30'\", 'ModDate': \"D:20240830201514+05'30'\", 'Producer': 'Microsoft: Print To PDF', 'Title': 'Microsoft Word - Smart Querying for PDFs'}, page_content='Submission Format\\nYour submission should include:'),\n",
       " Document(metadata={'source': 'h.pdf', 'file_path': 'h.pdf', 'page': 2, 'total_pages': 3, 'Author': 'Priyanka Jha', 'CreationDate': \"D:20240830201514+05'30'\", 'ModDate': \"D:20240830201514+05'30'\", 'Producer': 'Microsoft: Print To PDF', 'Title': 'Microsoft Word - Smart Querying for PDFs'}, page_content='1. Chatbot that takes a PDF file and answers questions about this PDF file.'),\n",
       " Document(metadata={'source': 'h.pdf', 'file_path': 'h.pdf', 'page': 2, 'total_pages': 3, 'Author': 'Priyanka Jha', 'CreationDate': \"D:20240830201514+05'30'\", 'ModDate': \"D:20240830201514+05'30'\", 'Producer': 'Microsoft: Print To PDF', 'Title': 'Microsoft Word - Smart Querying for PDFs'}, page_content='2. If you use prompt engineering, then a copy of your prompt.'),\n",
       " Document(metadata={'source': 'h.pdf', 'file_path': 'h.pdf', 'page': 2, 'total_pages': 3, 'Author': 'Priyanka Jha', 'CreationDate': \"D:20240830201514+05'30'\", 'ModDate': \"D:20240830201514+05'30'\", 'Producer': 'Microsoft: Print To PDF', 'Title': 'Microsoft Word - Smart Querying for PDFs'}, page_content='3. A readme doc detailing your approach/pipeline, and how to run your code.'),\n",
       " Document(metadata={'source': 'h.pdf', 'file_path': 'h.pdf', 'page': 2, 'total_pages': 3, 'Author': 'Priyanka Jha', 'CreationDate': \"D:20240830201514+05'30'\", 'ModDate': \"D:20240830201514+05'30'\", 'Producer': 'Microsoft: Print To PDF', 'Title': 'Microsoft Word - Smart Querying for PDFs'}, page_content='4. Code as a repository with above readme. Please ensure the repo is publicly accessible to'),\n",
       " Document(metadata={'source': 'h.pdf', 'file_path': 'h.pdf', 'page': 2, 'total_pages': 3, 'Author': 'Priyanka Jha', 'CreationDate': \"D:20240830201514+05'30'\", 'ModDate': \"D:20240830201514+05'30'\", 'Producer': 'Microsoft: Print To PDF', 'Title': 'Microsoft Word - Smart Querying for PDFs'}, page_content='avoid access issues and put the link in the first line of the readme.'),\n",
       " Document(metadata={'source': 'h.pdf', 'file_path': 'h.pdf', 'page': 2, 'total_pages': 3, 'Author': 'Priyanka Jha', 'CreationDate': \"D:20240830201514+05'30'\", 'ModDate': \"D:20240830201514+05'30'\", 'Producer': 'Microsoft: Print To PDF', 'Title': 'Microsoft Word - Smart Querying for PDFs'}, page_content='5. You cannot upload the PDFs to any third-party servers or make API calls. You cannot use'),\n",
       " Document(metadata={'source': 'h.pdf', 'file_path': 'h.pdf', 'page': 2, 'total_pages': 3, 'Author': 'Priyanka Jha', 'CreationDate': \"D:20240830201514+05'30'\", 'ModDate': \"D:20240830201514+05'30'\", 'Producer': 'Microsoft: Print To PDF', 'Title': 'Microsoft Word - Smart Querying for PDFs'}, page_content='proprietary LLMs.\\nEvaluation Criteria\\n\\uf0b7 Accuracy of answers\\n\\uf0b7 Complexity of questions handled'),\n",
       " Document(metadata={'source': 'h.pdf', 'file_path': 'h.pdf', 'page': 2, 'total_pages': 3, 'Author': 'Priyanka Jha', 'CreationDate': \"D:20240830201514+05'30'\", 'ModDate': \"D:20240830201514+05'30'\", 'Producer': 'Microsoft: Print To PDF', 'Title': 'Microsoft Word - Smart Querying for PDFs'}, page_content='\\uf0b7 Speed of query execution\\n\\uf0b7 Ease of (human) understandability of the output'),\n",
       " Document(metadata={'source': 'h.pdf', 'file_path': 'h.pdf', 'page': 2, 'total_pages': 3, 'Author': 'Priyanka Jha', 'CreationDate': \"D:20240830201514+05'30'\", 'ModDate': \"D:20240830201514+05'30'\", 'Producer': 'Microsoft: Print To PDF', 'Title': 'Microsoft Word - Smart Querying for PDFs'}, page_content='\\uf0b7 Open Q&A with final round candidates about their submissions'),\n",
       " Document(metadata={'source': 'h.pdf', 'file_path': 'h.pdf', 'page': 2, 'total_pages': 3, 'Author': 'Priyanka Jha', 'CreationDate': \"D:20240830201514+05'30'\", 'ModDate': \"D:20240830201514+05'30'\", 'Producer': 'Microsoft: Print To PDF', 'Title': 'Microsoft Word - Smart Querying for PDFs'}, page_content='We look forward to seeing your innovative solutions and wish you the best of luck!')]"
      ]
     },
     "execution_count": 3,
     "metadata": {},
     "output_type": "execute_result"
    }
   ],
   "source": [
    "from langchain.text_splitter import RecursiveCharacterTextSplitter\n",
    "\n",
    "text_splitter = RecursiveCharacterTextSplitter(chunk_size=100,chunk_overlap=10)\n",
    "\n",
    "docu = text_splitter.split_documents(docs)\n",
    "docu\n",
    "len(docu)\n"
   ]
  },
  {
   "cell_type": "code",
   "execution_count": 4,
   "metadata": {},
   "outputs": [],
   "source": [
    "from langchain_ollama.llms import OllamaLLM"
   ]
  },
  {
   "cell_type": "code",
   "execution_count": 44,
   "metadata": {},
   "outputs": [],
   "source": [
    "from langchain_community.embeddings import OllamaEmbeddings\n",
    "from langchain_community.vectorstores.faiss import FAISS"
   ]
  },
  {
   "cell_type": "code",
   "execution_count": 53,
   "metadata": {},
   "outputs": [],
   "source": [
    "emb = OllamaEmbeddings(model=\"llama3.1\")\n",
    "\n",
    "from langchain_community.docstore.in_memory import InMemoryDocstore\n",
    "import faiss\n",
    "\n",
    "index = faiss.IndexFlatL2(len(emb.embed_query(\"hello world\")))\n",
    "\n",
    "vector_store = FAISS(\n",
    "    embedding_function=emb,\n",
    "    index=index,\n",
    "    docstore= InMemoryDocstore(),\n",
    "    index_to_docstore_id={}\n",
    ")"
   ]
  },
  {
   "cell_type": "code",
   "execution_count": 54,
   "metadata": {},
   "outputs": [
    {
     "data": {
      "text/plain": [
       "['b9c2a2d0-2ac0-4b36-9cfc-d8c60431ac63',\n",
       " '91707372-dff1-4e0c-afb1-bab3307655b3',\n",
       " 'c4647d4b-2906-436a-95ed-fc47c758d80c',\n",
       " '12b21e29-851e-418b-b32a-eeb8f413d01d',\n",
       " '10f7fae3-3127-46bd-afa5-f638f16c778d',\n",
       " 'b23fd02c-f687-4e95-a066-fa141a58bee8',\n",
       " '1a7c8964-54ce-4368-9543-c258e6f8d79f',\n",
       " '0a823c80-5125-45f2-8f8e-6b6ede991862',\n",
       " '224b5572-810c-4631-a0f2-c2e2a4edec60',\n",
       " 'c571ac49-38b3-429b-a2fe-6c7299466791',\n",
       " '071713d4-201d-443a-a4fc-594cd3c08924',\n",
       " 'b83e7343-a689-4fae-b312-4790e0324426',\n",
       " 'ad2ba0ee-fb64-46b8-87d5-67a7c79f9de5',\n",
       " '4b46618f-2660-4ebe-91e4-c73377f3270b',\n",
       " '6f9970e2-bfed-456a-8cd7-bdf2cbc524ea',\n",
       " '8940bf31-a690-4b6f-acfc-64c0ef6f264c',\n",
       " '99f26b6e-a913-4db1-ae0d-e197e6c996f1',\n",
       " 'c443ca3e-7af0-4b0a-a89f-531f6a59add0',\n",
       " 'd1946249-6a46-468c-a21b-303e2f0a8082',\n",
       " '7147ca72-5c67-4635-8bf1-28a9414ea6fa']"
      ]
     },
     "execution_count": 54,
     "metadata": {},
     "output_type": "execute_result"
    }
   ],
   "source": [
    "# ids = [\"1\", \"2\", \"3\"]\n",
    "# len(docu)\n",
    "vector_store.add_documents(documents=docu[:20])"
   ]
  },
  {
   "cell_type": "code",
   "execution_count": 60,
   "metadata": {},
   "outputs": [],
   "source": [
    "question = \"When the company was founded?\""
   ]
  },
  {
   "cell_type": "code",
   "execution_count": 61,
   "metadata": {},
   "outputs": [],
   "source": [
    "results = vector_store.similarity_search(query=question, k=100)\n",
    "context_str = \"\"\n",
    "for doc in results:\n",
    "    context_str += doc.page_content\n",
    "    context_str += \" \""
   ]
  },
  {
   "cell_type": "code",
   "execution_count": 63,
   "metadata": {},
   "outputs": [
    {
     "data": {
      "text/plain": [
       "'outcomes, and supporting clinical research, making it a key player in health tech innovation. and responding to questions about data embedded in PDF documents.”\\nProblem Statement Introduction Problem Statement\\nTitle: Smart Querying for PDFs\\nOverview from complex PDF files is essential for enhancing information accessibility and decision-making. query and interpret data \"In the rapidly advancing field of document processing, the ability to e(cid:431)iciently query and widely adopted, patient care, Your task is to create a chatbot that takes in a PDF document and can answer questions about the clinical research, and operations is clean and standardized. Our AI-driven solutions are widely hackathon challenges participants to develop a robust chatbot system capable of accurately This challenges of \"dirty data\" in clinical and healthcare systems, ensuring that data used for patient analysing data from over 80% of U.S. healthcare providers. HiLabs’ work is crucial in improving improving patient HiLabs is a healthcare technology company that leverages artificial intelligence (AI) to enhance accuracy and reliability in the healthcare sector. Founded in 2014, HiLabs focuses on solving the extracting enhance data '"
      ]
     },
     "execution_count": 63,
     "metadata": {},
     "output_type": "execute_result"
    }
   ],
   "source": [
    "context_str"
   ]
  },
  {
   "cell_type": "code",
   "execution_count": 64,
   "metadata": {},
   "outputs": [],
   "source": [
    "response = llm.invoke(\"The document is about \" + context_str + \" and the user is asking questions about \" + question)"
   ]
  },
  {
   "cell_type": "code",
   "execution_count": 65,
   "metadata": {},
   "outputs": [
    {
     "data": {
      "text/plain": [
       "'It looks like you provided a snippet of a document and some context about HiLabs, a healthcare technology company.\\n\\nTo answer your question directly: \"When the company was founded?\"\\n\\nThe answer is: \"2014\" (according to the text)'"
      ]
     },
     "execution_count": 65,
     "metadata": {},
     "output_type": "execute_result"
    }
   ],
   "source": [
    "response"
   ]
  },
  {
   "cell_type": "code",
   "execution_count": null,
   "metadata": {},
   "outputs": [],
   "source": []
  },
  {
   "cell_type": "code",
   "execution_count": null,
   "metadata": {},
   "outputs": [],
   "source": []
  }
 ],
 "metadata": {
  "kernelspec": {
   "display_name": "Python 3",
   "language": "python",
   "name": "python3"
  },
  "language_info": {
   "codemirror_mode": {
    "name": "ipython",
    "version": 3
   },
   "file_extension": ".py",
   "mimetype": "text/x-python",
   "name": "python",
   "nbconvert_exporter": "python",
   "pygments_lexer": "ipython3",
   "version": "3.12.0"
  }
 },
 "nbformat": 4,
 "nbformat_minor": 2
}
